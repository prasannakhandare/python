{
 "cells": [
  {
   "cell_type": "code",
   "execution_count": 1,
   "id": "5958f5ab",
   "metadata": {
    "ExecuteTime": {
     "end_time": "2022-11-29T04:49:35.737592Z",
     "start_time": "2022-11-29T04:49:24.789567Z"
    }
   },
   "outputs": [
    {
     "name": "stdout",
     "output_type": "stream",
     "text": [
      "Requirement already satisfied: numpy in c:\\users\\prasa\\anaconda3\\lib\\site-packages (1.21.5)\n"
     ]
    }
   ],
   "source": [
    "!pip install numpy"
   ]
  },
  {
   "cell_type": "code",
   "execution_count": 3,
   "id": "63e0bd74",
   "metadata": {
    "ExecuteTime": {
     "end_time": "2022-11-29T04:50:34.953726Z",
     "start_time": "2022-11-29T04:50:34.688286Z"
    }
   },
   "outputs": [],
   "source": [
    "import numpy as np"
   ]
  },
  {
   "cell_type": "code",
   "execution_count": 5,
   "id": "20038182",
   "metadata": {
    "ExecuteTime": {
     "end_time": "2022-11-29T05:42:42.864202Z",
     "start_time": "2022-11-29T05:42:42.854503Z"
    }
   },
   "outputs": [
    {
     "data": {
      "text/plain": [
       "numpy.ndarray"
      ]
     },
     "execution_count": 5,
     "metadata": {},
     "output_type": "execute_result"
    }
   ],
   "source": [
    "#Array creation\n",
    "a = np.array(10)\n",
    "type(a)"
   ]
  },
  {
   "cell_type": "code",
   "execution_count": 7,
   "id": "0f12f3a8",
   "metadata": {
    "ExecuteTime": {
     "end_time": "2022-11-29T05:45:12.506813Z",
     "start_time": "2022-11-29T05:45:12.491001Z"
    }
   },
   "outputs": [
    {
     "data": {
      "text/plain": [
       "0"
      ]
     },
     "execution_count": 7,
     "metadata": {},
     "output_type": "execute_result"
    }
   ],
   "source": [
    "#Zero dimentional array\n",
    "z = np.array(10)\n",
    "z.ndim"
   ]
  },
  {
   "cell_type": "code",
   "execution_count": 8,
   "id": "bde8d334",
   "metadata": {
    "ExecuteTime": {
     "end_time": "2022-11-29T05:46:08.066017Z",
     "start_time": "2022-11-29T05:46:08.051966Z"
    }
   },
   "outputs": [
    {
     "data": {
      "text/plain": [
       "1"
      ]
     },
     "execution_count": 8,
     "metadata": {},
     "output_type": "execute_result"
    }
   ],
   "source": [
    "#1st dimaentional array\n",
    "b = np.array([10,11,12,13])\n",
    "b.ndim"
   ]
  },
  {
   "cell_type": "code",
   "execution_count": 9,
   "id": "ce163c35",
   "metadata": {
    "ExecuteTime": {
     "end_time": "2022-11-29T05:47:08.234725Z",
     "start_time": "2022-11-29T05:47:08.225083Z"
    }
   },
   "outputs": [
    {
     "data": {
      "text/plain": [
       "2"
      ]
     },
     "execution_count": 9,
     "metadata": {},
     "output_type": "execute_result"
    }
   ],
   "source": [
    "#2 dimentional array\n",
    "c = np.array([[10,12,13,14,15]])\n",
    "c.ndim"
   ]
  },
  {
   "cell_type": "code",
   "execution_count": 10,
   "id": "508be7fe",
   "metadata": {
    "ExecuteTime": {
     "end_time": "2022-11-29T05:48:08.758109Z",
     "start_time": "2022-11-29T05:48:08.753543Z"
    }
   },
   "outputs": [
    {
     "data": {
      "text/plain": [
       "3"
      ]
     },
     "execution_count": 10,
     "metadata": {},
     "output_type": "execute_result"
    }
   ],
   "source": [
    "#three dimanetional array\n",
    "th = np.array ([[[10,12,13,14,15,16]]])\n",
    "th.ndim"
   ]
  },
  {
   "cell_type": "code",
   "execution_count": 11,
   "id": "46a7d521",
   "metadata": {
    "ExecuteTime": {
     "end_time": "2022-11-29T05:49:15.612424Z",
     "start_time": "2022-11-29T05:49:15.597719Z"
    }
   },
   "outputs": [],
   "source": [
    "#change the data type of array elements.\n",
    "a = np.array([10,15,52,54])"
   ]
  },
  {
   "cell_type": "code",
   "execution_count": 12,
   "id": "3607886b",
   "metadata": {
    "ExecuteTime": {
     "end_time": "2022-11-29T05:49:23.347553Z",
     "start_time": "2022-11-29T05:49:23.332183Z"
    }
   },
   "outputs": [
    {
     "data": {
      "text/plain": [
       "dtype('int32')"
      ]
     },
     "execution_count": 12,
     "metadata": {},
     "output_type": "execute_result"
    }
   ],
   "source": [
    "a.dtype"
   ]
  },
  {
   "cell_type": "code",
   "execution_count": 15,
   "id": "5b57788a",
   "metadata": {
    "ExecuteTime": {
     "end_time": "2022-11-29T05:51:41.853377Z",
     "start_time": "2022-11-29T05:51:41.806928Z"
    }
   },
   "outputs": [
    {
     "name": "stdout",
     "output_type": "stream",
     "text": [
      "float64\n",
      "hello\n"
     ]
    },
    {
     "data": {
      "text/plain": [
       "array([10., 15., 52., 54.])"
      ]
     },
     "execution_count": 15,
     "metadata": {},
     "output_type": "execute_result"
    }
   ],
   "source": [
    "a = np.array([10,15,52,54], dtype = 'float')\n",
    "print(a.dtype)\n",
    "print('hello')\n",
    "a"
   ]
  },
  {
   "cell_type": "markdown",
   "id": "c11a4247",
   "metadata": {},
   "source": [
    "# Other ways of creation an array\n",
    "\n",
    "* arange\n",
    "* linspace\n",
    "* zeros\n",
    "* ones\n",
    "* random "
   ]
  },
  {
   "cell_type": "code",
   "execution_count": 16,
   "id": "5d1cb0dd",
   "metadata": {
    "ExecuteTime": {
     "end_time": "2022-11-29T05:56:22.320299Z",
     "start_time": "2022-11-29T05:56:22.311719Z"
    }
   },
   "outputs": [
    {
     "data": {
      "text/plain": [
       "array([ 1,  3,  5,  7,  9, 11, 13, 15, 17, 19])"
      ]
     },
     "execution_count": 16,
     "metadata": {},
     "output_type": "execute_result"
    }
   ],
   "source": [
    "#Arrange \n",
    "a = np.arange(1,21,2,)\n",
    "a"
   ]
  },
  {
   "cell_type": "code",
   "execution_count": 17,
   "id": "06ac4530",
   "metadata": {
    "ExecuteTime": {
     "end_time": "2022-11-29T05:56:51.375074Z",
     "start_time": "2022-11-29T05:56:51.364472Z"
    }
   },
   "outputs": [],
   "source": [
    "#linspace\n"
   ]
  },
  {
   "cell_type": "code",
   "execution_count": 18,
   "id": "c9451146",
   "metadata": {
    "ExecuteTime": {
     "end_time": "2022-11-29T05:57:41.491049Z",
     "start_time": "2022-11-29T05:57:41.470143Z"
    }
   },
   "outputs": [
    {
     "data": {
      "text/plain": [
       "(array([1.        , 1.28571429, 1.57142857, 1.85714286, 2.14285714,\n",
       "        2.42857143, 2.71428571, 3.        , 3.28571429, 3.57142857,\n",
       "        3.85714286, 4.14285714, 4.42857143, 4.71428571, 5.        ]),\n",
       " 0.2857142857142857)"
      ]
     },
     "execution_count": 18,
     "metadata": {},
     "output_type": "execute_result"
    }
   ],
   "source": [
    "b = np.linspace(1,5,15,retstep=True)\n",
    "b"
   ]
  },
  {
   "cell_type": "code",
   "execution_count": 19,
   "id": "f5bfc77e",
   "metadata": {
    "ExecuteTime": {
     "end_time": "2022-11-29T05:58:01.989115Z",
     "start_time": "2022-11-29T05:58:01.981550Z"
    }
   },
   "outputs": [
    {
     "data": {
      "text/plain": [
       "array(10)"
      ]
     },
     "execution_count": 19,
     "metadata": {},
     "output_type": "execute_result"
    }
   ],
   "source": [
    "z# zeros\n"
   ]
  },
  {
   "cell_type": "code",
   "execution_count": 20,
   "id": "abcff4c1",
   "metadata": {
    "ExecuteTime": {
     "end_time": "2022-11-29T05:58:34.026963Z",
     "start_time": "2022-11-29T05:58:34.009758Z"
    }
   },
   "outputs": [
    {
     "data": {
      "text/plain": [
       "array([[0., 0.],\n",
       "       [0., 0.]])"
      ]
     },
     "execution_count": 20,
     "metadata": {},
     "output_type": "execute_result"
    }
   ],
   "source": [
    "z = np.zeros([2,2])\n",
    "z"
   ]
  },
  {
   "cell_type": "code",
   "execution_count": 21,
   "id": "fbb939fa",
   "metadata": {
    "ExecuteTime": {
     "end_time": "2022-11-29T05:58:43.533231Z",
     "start_time": "2022-11-29T05:58:43.521540Z"
    }
   },
   "outputs": [],
   "source": [
    "#ones\n"
   ]
  },
  {
   "cell_type": "code",
   "execution_count": 22,
   "id": "32ec6e7c",
   "metadata": {
    "ExecuteTime": {
     "end_time": "2022-11-29T05:59:07.506203Z",
     "start_time": "2022-11-29T05:59:07.497879Z"
    }
   },
   "outputs": [
    {
     "data": {
      "text/plain": [
       "array([[1., 1., 1., 1., 1.],\n",
       "       [1., 1., 1., 1., 1.],\n",
       "       [1., 1., 1., 1., 1.],\n",
       "       [1., 1., 1., 1., 1.],\n",
       "       [1., 1., 1., 1., 1.]])"
      ]
     },
     "execution_count": 22,
     "metadata": {},
     "output_type": "execute_result"
    }
   ],
   "source": [
    "o = np.ones([5,5])\n",
    "o"
   ]
  },
  {
   "cell_type": "code",
   "execution_count": 23,
   "id": "9a28f1dd",
   "metadata": {
    "ExecuteTime": {
     "end_time": "2022-11-29T05:59:20.000477Z",
     "start_time": "2022-11-29T05:59:19.997470Z"
    }
   },
   "outputs": [],
   "source": [
    "#random"
   ]
  },
  {
   "cell_type": "code",
   "execution_count": 24,
   "id": "06644d7b",
   "metadata": {
    "ExecuteTime": {
     "end_time": "2022-11-29T05:59:45.702266Z",
     "start_time": "2022-11-29T05:59:45.680044Z"
    }
   },
   "outputs": [
    {
     "data": {
      "text/plain": [
       "array([[0.18162858, 0.5067065 , 0.62191705, 0.59917891, 0.69050779],\n",
       "       [0.13271083, 0.4931091 , 0.11324725, 0.12362731, 0.44436043],\n",
       "       [0.86870772, 0.3865666 , 0.33486768, 0.19591672, 0.27701529],\n",
       "       [0.24911731, 0.23848968, 0.13335463, 0.00679075, 0.08116861],\n",
       "       [0.26383296, 0.70037667, 0.0280183 , 0.77457757, 0.69413066]])"
      ]
     },
     "execution_count": 24,
     "metadata": {},
     "output_type": "execute_result"
    }
   ],
   "source": [
    "r = np.random.rand(5,5)\n",
    "r"
   ]
  },
  {
   "cell_type": "code",
   "execution_count": 26,
   "id": "e8f89426",
   "metadata": {
    "ExecuteTime": {
     "end_time": "2022-11-29T06:00:41.607406Z",
     "start_time": "2022-11-29T06:00:41.595797Z"
    }
   },
   "outputs": [
    {
     "data": {
      "text/plain": [
       "array([1, 3, 0, 2, 4, 4, 1, 4, 1, 4])"
      ]
     },
     "execution_count": 26,
     "metadata": {},
     "output_type": "execute_result"
    }
   ],
   "source": [
    "r = np.random.randint(5,size = 10)\n",
    "r"
   ]
  },
  {
   "cell_type": "markdown",
   "id": "cd47bc26",
   "metadata": {},
   "source": [
    "#  Slicing and Indexing Of arrays"
   ]
  },
  {
   "cell_type": "code",
   "execution_count": 27,
   "id": "d4ef3ff7",
   "metadata": {
    "ExecuteTime": {
     "end_time": "2022-11-29T06:01:57.867354Z",
     "start_time": "2022-11-29T06:01:57.858318Z"
    }
   },
   "outputs": [],
   "source": [
    "a = np.array([[1,2,3],[4,5,6]])"
   ]
  },
  {
   "cell_type": "code",
   "execution_count": 28,
   "id": "a582e710",
   "metadata": {
    "ExecuteTime": {
     "end_time": "2022-11-29T06:02:00.448509Z",
     "start_time": "2022-11-29T06:02:00.435148Z"
    }
   },
   "outputs": [
    {
     "data": {
      "text/plain": [
       "array([[1, 2, 3],\n",
       "       [4, 5, 6]])"
      ]
     },
     "execution_count": 28,
     "metadata": {},
     "output_type": "execute_result"
    }
   ],
   "source": [
    "a"
   ]
  },
  {
   "cell_type": "code",
   "execution_count": 29,
   "id": "b327dbf7",
   "metadata": {
    "ExecuteTime": {
     "end_time": "2022-11-29T06:02:50.565267Z",
     "start_time": "2022-11-29T06:02:50.549788Z"
    }
   },
   "outputs": [
    {
     "data": {
      "text/plain": [
       "1"
      ]
     },
     "execution_count": 29,
     "metadata": {},
     "output_type": "execute_result"
    }
   ],
   "source": [
    "a[0,0]"
   ]
  },
  {
   "cell_type": "code",
   "execution_count": 30,
   "id": "c977257a",
   "metadata": {
    "ExecuteTime": {
     "end_time": "2022-11-29T06:02:56.634246Z",
     "start_time": "2022-11-29T06:02:56.623646Z"
    }
   },
   "outputs": [
    {
     "data": {
      "text/plain": [
       "6"
      ]
     },
     "execution_count": 30,
     "metadata": {},
     "output_type": "execute_result"
    }
   ],
   "source": [
    "a[1,2]"
   ]
  },
  {
   "cell_type": "code",
   "execution_count": 31,
   "id": "285c6f77",
   "metadata": {
    "ExecuteTime": {
     "end_time": "2022-11-29T06:04:04.107710Z",
     "start_time": "2022-11-29T06:04:04.101431Z"
    }
   },
   "outputs": [
    {
     "data": {
      "text/plain": [
       "array([[1, 2, 3],\n",
       "       [4, 5, 6]])"
      ]
     },
     "execution_count": 31,
     "metadata": {},
     "output_type": "execute_result"
    }
   ],
   "source": [
    "a"
   ]
  },
  {
   "cell_type": "code",
   "execution_count": 32,
   "id": "b4a3207e",
   "metadata": {
    "ExecuteTime": {
     "end_time": "2022-11-29T06:04:20.841718Z",
     "start_time": "2022-11-29T06:04:20.831891Z"
    }
   },
   "outputs": [
    {
     "data": {
      "text/plain": [
       "array([[2, 3],\n",
       "       [5, 6]])"
      ]
     },
     "execution_count": 32,
     "metadata": {},
     "output_type": "execute_result"
    }
   ],
   "source": [
    "a[0:,1:]"
   ]
  },
  {
   "cell_type": "code",
   "execution_count": 33,
   "id": "97d6f5cc",
   "metadata": {
    "ExecuteTime": {
     "end_time": "2022-11-29T06:05:16.634886Z",
     "start_time": "2022-11-29T06:05:16.618418Z"
    }
   },
   "outputs": [
    {
     "data": {
      "text/plain": [
       "array([2, 3])"
      ]
     },
     "execution_count": 33,
     "metadata": {},
     "output_type": "execute_result"
    }
   ],
   "source": [
    "a[0,1:]"
   ]
  },
  {
   "cell_type": "code",
   "execution_count": 34,
   "id": "743219d2",
   "metadata": {
    "ExecuteTime": {
     "end_time": "2022-11-29T06:05:28.835774Z",
     "start_time": "2022-11-29T06:05:28.832181Z"
    }
   },
   "outputs": [
    {
     "data": {
      "text/plain": [
       "array([[1, 2, 3],\n",
       "       [4, 5, 6]])"
      ]
     },
     "execution_count": 34,
     "metadata": {},
     "output_type": "execute_result"
    }
   ],
   "source": [
    "a"
   ]
  },
  {
   "cell_type": "code",
   "execution_count": 35,
   "id": "d717d983",
   "metadata": {
    "ExecuteTime": {
     "end_time": "2022-11-29T06:08:01.734859Z",
     "start_time": "2022-11-29T06:08:01.719647Z"
    }
   },
   "outputs": [
    {
     "data": {
      "text/plain": [
       "array([1, 6])"
      ]
     },
     "execution_count": 35,
     "metadata": {},
     "output_type": "execute_result"
    }
   ],
   "source": [
    "# 1 and 6\n",
    "a[[0,1],[0,2]]"
   ]
  },
  {
   "cell_type": "code",
   "execution_count": 36,
   "id": "28a881ce",
   "metadata": {
    "ExecuteTime": {
     "end_time": "2022-11-29T06:08:21.873666Z",
     "start_time": "2022-11-29T06:08:21.869334Z"
    }
   },
   "outputs": [
    {
     "data": {
      "text/plain": [
       "array([3, 4])"
      ]
     },
     "execution_count": 36,
     "metadata": {},
     "output_type": "execute_result"
    }
   ],
   "source": [
    "#3 and 4\n",
    "a[[0,1],[2,0]]"
   ]
  },
  {
   "cell_type": "markdown",
   "id": "8549251c",
   "metadata": {},
   "source": [
    "# Reshaping the arrays"
   ]
  },
  {
   "cell_type": "code",
   "execution_count": 37,
   "id": "e304a159",
   "metadata": {
    "ExecuteTime": {
     "end_time": "2022-11-29T06:09:11.636281Z",
     "start_time": "2022-11-29T06:09:11.628688Z"
    }
   },
   "outputs": [],
   "source": [
    "a = np.random.rand(5,2)"
   ]
  },
  {
   "cell_type": "code",
   "execution_count": 38,
   "id": "15be8da9",
   "metadata": {
    "ExecuteTime": {
     "end_time": "2022-11-29T06:09:19.610738Z",
     "start_time": "2022-11-29T06:09:19.592787Z"
    }
   },
   "outputs": [
    {
     "data": {
      "text/plain": [
       "array([[0.37972635, 0.54903276],\n",
       "       [0.85936408, 0.74463374],\n",
       "       [0.90618705, 0.46959899],\n",
       "       [0.87195979, 0.07425249],\n",
       "       [0.11332529, 0.0909899 ]])"
      ]
     },
     "execution_count": 38,
     "metadata": {},
     "output_type": "execute_result"
    }
   ],
   "source": [
    "a"
   ]
  },
  {
   "cell_type": "code",
   "execution_count": 39,
   "id": "bcda36c9",
   "metadata": {
    "ExecuteTime": {
     "end_time": "2022-11-29T06:09:44.674285Z",
     "start_time": "2022-11-29T06:09:44.662066Z"
    }
   },
   "outputs": [
    {
     "data": {
      "text/plain": [
       "array([[0.37972635, 0.54903276, 0.85936408, 0.74463374, 0.90618705],\n",
       "       [0.46959899, 0.87195979, 0.07425249, 0.11332529, 0.0909899 ]])"
      ]
     },
     "execution_count": 39,
     "metadata": {},
     "output_type": "execute_result"
    }
   ],
   "source": [
    "a.reshape(2,5)"
   ]
  },
  {
   "cell_type": "code",
   "execution_count": 40,
   "id": "dd2e8872",
   "metadata": {
    "ExecuteTime": {
     "end_time": "2022-11-29T06:11:02.229159Z",
     "start_time": "2022-11-29T06:11:02.210695Z"
    }
   },
   "outputs": [
    {
     "data": {
      "text/plain": [
       "array([[0.37972635],\n",
       "       [0.54903276],\n",
       "       [0.85936408],\n",
       "       [0.74463374],\n",
       "       [0.90618705],\n",
       "       [0.46959899],\n",
       "       [0.87195979],\n",
       "       [0.07425249],\n",
       "       [0.11332529],\n",
       "       [0.0909899 ]])"
      ]
     },
     "execution_count": 40,
     "metadata": {},
     "output_type": "execute_result"
    }
   ],
   "source": [
    "a.reshape(10,1)"
   ]
  },
  {
   "cell_type": "code",
   "execution_count": 41,
   "id": "e06f1508",
   "metadata": {
    "ExecuteTime": {
     "end_time": "2022-11-29T06:11:11.615652Z",
     "start_time": "2022-11-29T06:11:11.607391Z"
    }
   },
   "outputs": [
    {
     "data": {
      "text/plain": [
       "array([[0.37972635, 0.54903276, 0.85936408, 0.74463374, 0.90618705,\n",
       "        0.46959899, 0.87195979, 0.07425249, 0.11332529, 0.0909899 ]])"
      ]
     },
     "execution_count": 41,
     "metadata": {},
     "output_type": "execute_result"
    }
   ],
   "source": [
    "a.reshape(1,10)"
   ]
  },
  {
   "cell_type": "code",
   "execution_count": 42,
   "id": "07e41090",
   "metadata": {
    "ExecuteTime": {
     "end_time": "2022-11-29T06:12:13.045812Z",
     "start_time": "2022-11-29T06:12:13.026438Z"
    }
   },
   "outputs": [
    {
     "data": {
      "text/plain": [
       "array([[0.37972635, 0.54903276],\n",
       "       [0.85936408, 0.74463374],\n",
       "       [0.90618705, 0.46959899],\n",
       "       [0.87195979, 0.07425249],\n",
       "       [0.11332529, 0.0909899 ]])"
      ]
     },
     "execution_count": 42,
     "metadata": {},
     "output_type": "execute_result"
    }
   ],
   "source": [
    "a.reshape(5,-1)"
   ]
  },
  {
   "cell_type": "markdown",
   "id": "e6407df8",
   "metadata": {},
   "source": [
    "# Aggregate Functions\n",
    "\n",
    "* A python numpy aggregate functions are sum, min,max,mean,avg,product,median,standard deviation"
   ]
  },
  {
   "cell_type": "code",
   "execution_count": 44,
   "id": "4b9057b0",
   "metadata": {
    "ExecuteTime": {
     "end_time": "2022-11-29T06:15:21.751351Z",
     "start_time": "2022-11-29T06:15:21.741954Z"
    }
   },
   "outputs": [
    {
     "data": {
      "text/plain": [
       "0.07425248573962284"
      ]
     },
     "execution_count": 44,
     "metadata": {},
     "output_type": "execute_result"
    }
   ],
   "source": [
    "a.min()"
   ]
  },
  {
   "cell_type": "code",
   "execution_count": 45,
   "id": "c911a258",
   "metadata": {
    "ExecuteTime": {
     "end_time": "2022-11-29T06:15:30.154068Z",
     "start_time": "2022-11-29T06:15:30.136899Z"
    }
   },
   "outputs": [
    {
     "data": {
      "text/plain": [
       "0.31746543268961486"
      ]
     },
     "execution_count": 45,
     "metadata": {},
     "output_type": "execute_result"
    }
   ],
   "source": [
    "a.std()"
   ]
  },
  {
   "cell_type": "code",
   "execution_count": 46,
   "id": "9e191117",
   "metadata": {
    "ExecuteTime": {
     "end_time": "2022-11-29T06:15:40.020800Z",
     "start_time": "2022-11-29T06:15:40.003593Z"
    }
   },
   "outputs": [
    {
     "data": {
      "text/plain": [
       "0.1007843009528044"
      ]
     },
     "execution_count": 46,
     "metadata": {},
     "output_type": "execute_result"
    }
   ],
   "source": [
    "a.var()"
   ]
  },
  {
   "cell_type": "code",
   "execution_count": null,
   "id": "ea8af54c",
   "metadata": {},
   "outputs": [],
   "source": []
  },
  {
   "cell_type": "markdown",
   "id": "9f56f7e8",
   "metadata": {},
   "source": [
    "# Stacking"
   ]
  },
  {
   "cell_type": "code",
   "execution_count": 47,
   "id": "40df9e37",
   "metadata": {
    "ExecuteTime": {
     "end_time": "2022-11-29T06:18:07.630135Z",
     "start_time": "2022-11-29T06:18:07.625980Z"
    }
   },
   "outputs": [],
   "source": [
    "a = np.array ([1,2,3,4,5])\n",
    "b = np.array ([6,7,8,9,10])"
   ]
  },
  {
   "cell_type": "code",
   "execution_count": 48,
   "id": "ef307df4",
   "metadata": {
    "ExecuteTime": {
     "end_time": "2022-11-29T06:18:25.585405Z",
     "start_time": "2022-11-29T06:18:25.580537Z"
    }
   },
   "outputs": [
    {
     "data": {
      "text/plain": [
       "array([ 1,  2,  3,  4,  5,  6,  7,  8,  9, 10])"
      ]
     },
     "execution_count": 48,
     "metadata": {},
     "output_type": "execute_result"
    }
   ],
   "source": [
    "np.hstack([a,b])"
   ]
  },
  {
   "cell_type": "code",
   "execution_count": 49,
   "id": "21e94428",
   "metadata": {
    "ExecuteTime": {
     "end_time": "2022-11-29T06:18:48.343351Z",
     "start_time": "2022-11-29T06:18:48.330092Z"
    }
   },
   "outputs": [
    {
     "data": {
      "text/plain": [
       "array([[ 1,  2,  3,  4,  5],\n",
       "       [ 6,  7,  8,  9, 10]])"
      ]
     },
     "execution_count": 49,
     "metadata": {},
     "output_type": "execute_result"
    }
   ],
   "source": [
    "np.vstack([a,b])"
   ]
  },
  {
   "cell_type": "code",
   "execution_count": null,
   "id": "443e1f46",
   "metadata": {},
   "outputs": [],
   "source": []
  },
  {
   "cell_type": "code",
   "execution_count": null,
   "id": "074bb0c3",
   "metadata": {},
   "outputs": [],
   "source": []
  },
  {
   "cell_type": "code",
   "execution_count": null,
   "id": "95aff1ee",
   "metadata": {},
   "outputs": [],
   "source": []
  },
  {
   "cell_type": "code",
   "execution_count": null,
   "id": "da2eac30",
   "metadata": {},
   "outputs": [],
   "source": []
  },
  {
   "cell_type": "code",
   "execution_count": null,
   "id": "ae0981c7",
   "metadata": {},
   "outputs": [],
   "source": []
  }
 ],
 "metadata": {
  "kernelspec": {
   "display_name": "Python 3 (ipykernel)",
   "language": "python",
   "name": "python3"
  },
  "language_info": {
   "codemirror_mode": {
    "name": "ipython",
    "version": 3
   },
   "file_extension": ".py",
   "mimetype": "text/x-python",
   "name": "python",
   "nbconvert_exporter": "python",
   "pygments_lexer": "ipython3",
   "version": "3.9.12"
  }
 },
 "nbformat": 4,
 "nbformat_minor": 5
}
